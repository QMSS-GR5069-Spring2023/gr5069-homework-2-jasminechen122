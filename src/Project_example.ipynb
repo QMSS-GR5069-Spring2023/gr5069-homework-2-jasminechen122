{
 "cells": [
  {
   "cell_type": "markdown",
   "metadata": {},
   "source": [
    "Goal: Webscrap fidelity website and extract info on market sectors."
   ]
  },
  {
   "cell_type": "code",
   "execution_count": null,
   "metadata": {},
   "outputs": [],
   "source": [
    "# you should consider putting all your imports here \n",
    "    import requests\n",
    "    from bs4 import BeautifulSoup\n",
    "    import pandas as pd\n",
    "    import numpy as np"
   ]
  },
  {
   "cell_type": "code",
   "execution_count": null,
   "metadata": {},
   "outputs": [],
   "source": [
    "# I don't know what this function does! Adding a comment here would help\n",
    "def get_us_sector_performance():\n",
    "    ''' this function does xyz and takes arguments abc, which helps do qwerty'''\n",
    "    output_list = list()\n",
    "    url = \"https://eresearch.fidelity.com/eresearch/goto/markets_sectors/landing.jhtml\"\n",
    "\n",
    "    response = requests.get(url)\n",
    "    if response.status_code == 200:\n",
    "        soup = BeautifulSoup(response.text)\n",
    "        sector = soup.find('tbody',{\"id\":\"tbody_id\"})\n",
    "        s_list = sector.find_all(\"a\", {\"class\":\"heading1\"})\n",
    "        for e in s_list: #loop to extract data\n",
    "            try:\n",
    "                sector_name = e.get_text()\n",
    "                growth = 'https://eresearch.fidelity.com/'+ e.get('href')\n",
    "                sector_change,sector_market_cap,sector_market_weight= get_sector_change_and_market_cap(growth)\n",
    "                data = (sector_name.strip(),sector_change,sector_market_cap,sector_market_weight,growth.strip())\n",
    "                output_list.append(data)\n",
    "                output_list.sort(key=lambda x:x[3],reverse=True)\n",
    "            except: \n",
    "                continue\n",
    "    else:\n",
    "        return None\n",
    "    return output_list\n",
    "    "
   ]
  },
  {
   "cell_type": "code",
   "execution_count": null,
   "metadata": {},
   "outputs": [],
   "source": [
    "def get_sector_change_and_market_cap(sector_page_link):\n",
    "\n",
    "    response = requests.get(sector_page_link)\n",
    "    if response.status_code != 200:\n",
    "        return None\n",
    "    else:\n",
    "        soup = BeautifulSoup(response.content)\n",
    "        table = soup.find('table',{\"class\":\"snapshot-data-tbl\"})\n",
    "        num = table.find_all('td')\n",
    "        for n in num:\n",
    "            try:\n",
    "                sector_change = float(num[0].find('span').get_text().replace('%',''))\n",
    "                sector_market_cap = num[1].find('span').get_text()\n",
    "                sector_market_weight = float(num[2].find('span').get_text().replace('%',''))\n",
    "            except: \n",
    "                pass\n",
    "    return sector_change,sector_market_cap,sector_market_weight"
   ]
  },
  {
   "cell_type": "code",
   "execution_count": null,
   "metadata": {},
   "outputs": [],
   "source": [
    "#Test get_sector_change_and_market_cap()\n",
    "link = \"https://eresearch.fidelity.com/eresearch/markets_sectors/sectors/sectors_in_market.jhtml?tab=learn&sector=25\"\n",
    "get_sector_change_and_market_cap(link)"
   ]
  },
  {
   "cell_type": "code",
   "execution_count": null,
   "metadata": {},
   "outputs": [],
   "source": [
    "#Test get_us_sector_performance()\n",
    "get_us_sector_performance()"
   ]
  }
 ],
 "metadata": {
  "kernelspec": {
   "display_name": "Python 3 (ipykernel)",
   "language": "python",
   "name": "python3"
  },
  "language_info": {
   "codemirror_mode": {
    "name": "ipython",
    "version": 3
   },
   "file_extension": ".py",
   "mimetype": "text/x-python",
   "name": "python",
   "nbconvert_exporter": "python",
   "pygments_lexer": "ipython3",
   "version": "3.9.13"
  },
  "vscode": {
   "interpreter": {
    "hash": "651c3b7b3f466eb030aa737f279c846be4db9cba49a2f229278cab5e41121ed5"
   }
  }
 },
 "nbformat": 4,
 "nbformat_minor": 2
}
