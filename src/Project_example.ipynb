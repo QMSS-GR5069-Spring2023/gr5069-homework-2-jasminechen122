{
 "cells": [
  {
   "cell_type": "markdown",
   "metadata": {},
   "source": [
    "#### Author: Jasmine Chen\n",
    "#### Goal: Webscrape fidelity website and extract info on market sectors."
   ]
  },
  {
   "cell_type": "code",
   "execution_count": 2,
   "metadata": {},
   "outputs": [],
   "source": [
    "# you should consider putting all your imports here \n",
    "import requests\n",
    "from bs4 import BeautifulSoup\n",
    "import pandas as pd\n",
    "import numpy as np"
   ]
  },
  {
   "cell_type": "code",
   "execution_count": 6,
   "metadata": {},
   "outputs": [],
   "source": [
    "# I don't know what this function does! Adding a comment here would help\n",
    "def get_us_sector_performance():\n",
    "    ''' this function does xyz and takes arguments abc, which helps do qwerty'''\n",
    "    output_list = list()\n",
    "    url = \"https://eresearch.fidelity.com/eresearch/goto/markets_sectors/landing.jhtml\"\n",
    "    response = requests.get(url)\n",
    "\n",
    "    if response.status_code == 200:\n",
    "        soup = BeautifulSoup(response.text)\n",
    "        sector = soup.find('tbody',{\"id\":\"tbody_id\"})\n",
    "        s_list = sector.find_all(\"a\", {\"class\":\"heading1\"})\n",
    "\n",
    "        for e in s_list: #loop to extract data\n",
    "            try:\n",
    "                sector_name = e.get_text()\n",
    "                growth = 'https://eresearch.fidelity.com/'+ e.get('href')\n",
    "                sector_change,sector_market_cap,sector_market_weight= get_sector_change_and_market_cap(growth)\n",
    "                data = (sector_name.strip(),sector_change,sector_market_cap,sector_market_weight,growth.strip())\n",
    "                output_list.append(data)\n",
    "                output_list.sort(key=lambda x:x[3],reverse=True)\n",
    "            except: \n",
    "                continue\n",
    "\n",
    "    else:\n",
    "        return None\n",
    "\n",
    "    return output_list\n",
    "    # it would help if this code didn't just return values, but rather printed them properly with formatting. \n",
    "    # Perhaps as a table?"
   ]
  },
  {
   "cell_type": "code",
   "execution_count": 7,
   "metadata": {},
   "outputs": [],
   "source": [
    "# this should also be a comment to define this function\n",
    "def get_sector_change_and_market_cap(sector_page_link):\n",
    "\n",
    "    response = requests.get(sector_page_link)\n",
    "\n",
    "    if response.status_code != 200:\n",
    "        return None\n",
    "\n",
    "    else:\n",
    "        soup = BeautifulSoup(response.content)\n",
    "        table = soup.find('table',{\"class\":\"snapshot-data-tbl\"})\n",
    "        num = table.find_all('td')\n",
    "        for n in num:\n",
    "            try:\n",
    "                sector_change = float(num[0].find('span').get_text().replace('%',''))\n",
    "                sector_market_cap = num[1].find('span').get_text()\n",
    "                sector_market_weight = float(num[2].find('span').get_text().replace('%',''))\n",
    "            except: \n",
    "                pass\n",
    "\n",
    "    return sector_change,sector_market_cap,sector_market_weight\n",
    "    # it would help if this code didn't just return values, but rather printed them properly with formatting. \n",
    "    # Perhaps as a table? "
   ]
  },
  {
   "cell_type": "code",
   "execution_count": 8,
   "metadata": {},
   "outputs": [
    {
     "data": {
      "text/plain": [
       "(-0.26, '$6.88T', 10.5)"
      ]
     },
     "execution_count": 8,
     "metadata": {},
     "output_type": "execute_result"
    }
   ],
   "source": [
    "#Test get_sector_change_and_market_cap()\n",
    "link = \"https://eresearch.fidelity.com/eresearch/markets_sectors/sectors/sectors_in_market.jhtml?tab=learn&sector=25\"\n",
    "get_sector_change_and_market_cap(link)"
   ]
  },
  {
   "cell_type": "code",
   "execution_count": 9,
   "metadata": {},
   "outputs": [
    {
     "data": {
      "text/plain": [
       "[('Information Technology',\n",
       "  0.84,\n",
       "  '$12.82T',\n",
       "  27.46,\n",
       "  'https://eresearch.fidelity.com//eresearch/markets_sectors/sectors/sectors_in_market.jhtml?tab=learn&sector=45'),\n",
       " ('Health Care',\n",
       "  -0.56,\n",
       "  '$7.37T',\n",
       "  14.3,\n",
       "  'https://eresearch.fidelity.com//eresearch/markets_sectors/sectors/sectors_in_market.jhtml?tab=learn&sector=35'),\n",
       " ('Financials',\n",
       "  -0.4,\n",
       "  '$8.05T',\n",
       "  11.6,\n",
       "  'https://eresearch.fidelity.com//eresearch/markets_sectors/sectors/sectors_in_market.jhtml?tab=learn&sector=40'),\n",
       " ('Consumer Discretionary',\n",
       "  -0.26,\n",
       "  '$6.88T',\n",
       "  10.5,\n",
       "  'https://eresearch.fidelity.com//eresearch/markets_sectors/sectors/sectors_in_market.jhtml?tab=learn&sector=25'),\n",
       " ('Industrials',\n",
       "  0.23,\n",
       "  '$5.45T',\n",
       "  8.57,\n",
       "  'https://eresearch.fidelity.com//eresearch/markets_sectors/sectors/sectors_in_market.jhtml?tab=learn&sector=20'),\n",
       " ('Communication Services',\n",
       "  0.19,\n",
       "  '$4.32T',\n",
       "  7.72,\n",
       "  'https://eresearch.fidelity.com//eresearch/markets_sectors/sectors/sectors_in_market.jhtml?tab=learn&sector=50'),\n",
       " ('Consumer Staples',\n",
       "  0.12,\n",
       "  '$3.81T',\n",
       "  6.63,\n",
       "  'https://eresearch.fidelity.com//eresearch/markets_sectors/sectors/sectors_in_market.jhtml?tab=learn&sector=30'),\n",
       " ('Energy',\n",
       "  -1.02,\n",
       "  '$3.59T',\n",
       "  4.9,\n",
       "  'https://eresearch.fidelity.com//eresearch/markets_sectors/sectors/sectors_in_market.jhtml?tab=learn&sector=10'),\n",
       " ('Utilities',\n",
       "  0.78,\n",
       "  '$1.50T',\n",
       "  2.83,\n",
       "  'https://eresearch.fidelity.com//eresearch/markets_sectors/sectors/sectors_in_market.jhtml?tab=learn&sector=55'),\n",
       " ('Materials',\n",
       "  0.47,\n",
       "  '$2.44T',\n",
       "  2.82,\n",
       "  'https://eresearch.fidelity.com//eresearch/markets_sectors/sectors/sectors_in_market.jhtml?tab=learn&sector=15'),\n",
       " ('Real Estate',\n",
       "  1.32,\n",
       "  '$1.41T',\n",
       "  2.68,\n",
       "  'https://eresearch.fidelity.com//eresearch/markets_sectors/sectors/sectors_in_market.jhtml?tab=learn&sector=60')]"
      ]
     },
     "execution_count": 9,
     "metadata": {},
     "output_type": "execute_result"
    }
   ],
   "source": [
    "#Test get_us_sector_performance()\n",
    "get_us_sector_performance()"
   ]
  }
 ],
 "metadata": {
  "kernelspec": {
   "display_name": "Python 3 (ipykernel)",
   "language": "python",
   "name": "python3"
  },
  "language_info": {
   "codemirror_mode": {
    "name": "ipython",
    "version": 3
   },
   "file_extension": ".py",
   "mimetype": "text/x-python",
   "name": "python",
   "nbconvert_exporter": "python",
   "pygments_lexer": "ipython3",
   "version": "3.9.13"
  },
  "vscode": {
   "interpreter": {
    "hash": "651c3b7b3f466eb030aa737f279c846be4db9cba49a2f229278cab5e41121ed5"
   }
  }
 },
 "nbformat": 4,
 "nbformat_minor": 2
}
